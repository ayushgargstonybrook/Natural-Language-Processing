{
  "nbformat": 4,
  "nbformat_minor": 0,
  "metadata": {
    "colab": {
      "name": "Friends_Chatbot.ipynb",
      "version": "0.3.2",
      "provenance": [],
      "include_colab_link": true
    },
    "kernelspec": {
      "name": "python3",
      "display_name": "Python 3"
    }
  },
  "cells": [
    {
      "cell_type": "markdown",
      "metadata": {
        "id": "view-in-github",
        "colab_type": "text"
      },
      "source": [
        "<a href=\"https://colab.research.google.com/github/ayushgargstonybrook/Natural-Language-Processing/blob/master/Friends_Chatbot.ipynb\" target=\"_parent\"><img src=\"https://colab.research.google.com/assets/colab-badge.svg\" alt=\"Open In Colab\"/></a>"
      ]
    },
    {
      "metadata": {
        "id": "Bqg6MWfhJS1_",
        "colab_type": "code",
        "colab": {}
      },
      "cell_type": "code",
      "source": [
        "import tensorflow as tf\n",
        "import pandas as pd\n",
        "import os\n",
        "import numpy as np\n",
        "import nltk"
      ],
      "execution_count": 0,
      "outputs": []
    },
    {
      "metadata": {
        "id": "N8boPJkXJUjT",
        "colab_type": "code",
        "outputId": "dcabfccc-18f9-43f4-bf5a-b2d3d7a11626",
        "colab": {
          "base_uri": "https://localhost:8080/",
          "height": 734
        }
      },
      "cell_type": "code",
      "source": [
        "# !pip install --upgrade gensim"
      ],
      "execution_count": 3,
      "outputs": [
        {
          "output_type": "stream",
          "text": [
            "Collecting gensim\n",
            "\u001b[?25l  Downloading https://files.pythonhosted.org/packages/27/a4/d10c0acc8528d838cda5eede0ee9c784caa598dbf40bd0911ff8d067a7eb/gensim-3.6.0-cp36-cp36m-manylinux1_x86_64.whl (23.6MB)\n",
            "\u001b[K    100% |████████████████████████████████| 23.6MB 1.3MB/s \n",
            "\u001b[?25hRequirement already satisfied, skipping upgrade: numpy>=1.11.3 in /usr/local/lib/python3.6/dist-packages (from gensim) (1.14.6)\n",
            "Requirement already satisfied, skipping upgrade: scipy>=0.18.1 in /usr/local/lib/python3.6/dist-packages (from gensim) (0.19.1)\n",
            "Requirement already satisfied, skipping upgrade: six>=1.5.0 in /usr/local/lib/python3.6/dist-packages (from gensim) (1.11.0)\n",
            "Collecting smart-open>=1.2.1 (from gensim)\n",
            "  Downloading https://files.pythonhosted.org/packages/4b/1f/6f27e3682124de63ac97a0a5876da6186de6c19410feab66c1543afab055/smart_open-1.7.1.tar.gz\n",
            "Collecting boto>=2.32 (from smart-open>=1.2.1->gensim)\n",
            "\u001b[?25l  Downloading https://files.pythonhosted.org/packages/23/10/c0b78c27298029e4454a472a1919bde20cb182dab1662cec7f2ca1dcc523/boto-2.49.0-py2.py3-none-any.whl (1.4MB)\n",
            "\u001b[K    100% |████████████████████████████████| 1.4MB 14.4MB/s \n",
            "\u001b[?25hCollecting bz2file (from smart-open>=1.2.1->gensim)\n",
            "  Downloading https://files.pythonhosted.org/packages/61/39/122222b5e85cd41c391b68a99ee296584b2a2d1d233e7ee32b4532384f2d/bz2file-0.98.tar.gz\n",
            "Requirement already satisfied, skipping upgrade: requests in /usr/local/lib/python3.6/dist-packages (from smart-open>=1.2.1->gensim) (2.18.4)\n",
            "Collecting boto3 (from smart-open>=1.2.1->gensim)\n",
            "\u001b[?25l  Downloading https://files.pythonhosted.org/packages/7a/7e/fe8faa29e771a09c528ee70e1fd9b317006021c48311ecccc78c22ebe739/boto3-1.9.37-py2.py3-none-any.whl (128kB)\n",
            "\u001b[K    100% |████████████████████████████████| 133kB 27.1MB/s \n",
            "\u001b[?25hRequirement already satisfied, skipping upgrade: certifi>=2017.4.17 in /usr/local/lib/python3.6/dist-packages (from requests->smart-open>=1.2.1->gensim) (2018.10.15)\n",
            "Requirement already satisfied, skipping upgrade: urllib3<1.23,>=1.21.1 in /usr/local/lib/python3.6/dist-packages (from requests->smart-open>=1.2.1->gensim) (1.22)\n",
            "Requirement already satisfied, skipping upgrade: idna<2.7,>=2.5 in /usr/local/lib/python3.6/dist-packages (from requests->smart-open>=1.2.1->gensim) (2.6)\n",
            "Requirement already satisfied, skipping upgrade: chardet<3.1.0,>=3.0.2 in /usr/local/lib/python3.6/dist-packages (from requests->smart-open>=1.2.1->gensim) (3.0.4)\n",
            "Collecting s3transfer<0.2.0,>=0.1.10 (from boto3->smart-open>=1.2.1->gensim)\n",
            "\u001b[?25l  Downloading https://files.pythonhosted.org/packages/d7/14/2a0004d487464d120c9fb85313a75cd3d71a7506955be458eebfe19a6b1d/s3transfer-0.1.13-py2.py3-none-any.whl (59kB)\n",
            "\u001b[K    100% |████████████████████████████████| 61kB 20.7MB/s \n",
            "\u001b[?25hCollecting botocore<1.13.0,>=1.12.37 (from boto3->smart-open>=1.2.1->gensim)\n",
            "\u001b[?25l  Downloading https://files.pythonhosted.org/packages/d0/35/1461771f778b67984a75a9853a2b3ed25e65a4345e669a81b50c67c930ab/botocore-1.12.37-py2.py3-none-any.whl (4.7MB)\n",
            "\u001b[K    100% |████████████████████████████████| 4.7MB 6.1MB/s \n",
            "\u001b[?25hCollecting jmespath<1.0.0,>=0.7.1 (from boto3->smart-open>=1.2.1->gensim)\n",
            "  Downloading https://files.pythonhosted.org/packages/b7/31/05c8d001f7f87f0f07289a5fc0fc3832e9a57f2dbd4d3b0fee70e0d51365/jmespath-0.9.3-py2.py3-none-any.whl\n",
            "Collecting docutils>=0.10 (from botocore<1.13.0,>=1.12.37->boto3->smart-open>=1.2.1->gensim)\n",
            "\u001b[?25l  Downloading https://files.pythonhosted.org/packages/36/fa/08e9e6e0e3cbd1d362c3bbee8d01d0aedb2155c4ac112b19ef3cae8eed8d/docutils-0.14-py3-none-any.whl (543kB)\n",
            "\u001b[K    100% |████████████████████████████████| 552kB 24.3MB/s \n",
            "\u001b[?25hRequirement already satisfied, skipping upgrade: python-dateutil<3.0.0,>=2.1; python_version >= \"2.7\" in /usr/local/lib/python3.6/dist-packages (from botocore<1.13.0,>=1.12.37->boto3->smart-open>=1.2.1->gensim) (2.5.3)\n",
            "Building wheels for collected packages: smart-open, bz2file\n",
            "  Running setup.py bdist_wheel for smart-open ... \u001b[?25l-\b \bdone\n",
            "\u001b[?25h  Stored in directory: /root/.cache/pip/wheels/23/00/44/e5b939f7a80c04e32297dbd6d96fa3065af89ecf57e2b5f89f\n",
            "  Running setup.py bdist_wheel for bz2file ... \u001b[?25l-\b \bdone\n",
            "\u001b[?25h  Stored in directory: /root/.cache/pip/wheels/81/75/d6/e1317bf09bf1af5a30befc2a007869fa6e1f516b8f7c591cb9\n",
            "Successfully built smart-open bz2file\n",
            "Installing collected packages: boto, bz2file, docutils, jmespath, botocore, s3transfer, boto3, smart-open, gensim\n",
            "Successfully installed boto-2.49.0 boto3-1.9.37 botocore-1.12.37 bz2file-0.98 docutils-0.14 gensim-3.6.0 jmespath-0.9.3 s3transfer-0.1.13 smart-open-1.7.1\n"
          ],
          "name": "stdout"
        }
      ]
    },
    {
      "metadata": {
        "id": "-szOut1oJaw4",
        "colab_type": "code",
        "colab": {}
      },
      "cell_type": "code",
      "source": [
        "from gensim.models import Word2Vec\n",
        "import gensim"
      ],
      "execution_count": 0,
      "outputs": []
    },
    {
      "metadata": {
        "id": "7fcAvLeeLoLx",
        "colab_type": "code",
        "outputId": "75ebeff1-1b42-4525-dfae-ced0b499cfe4",
        "colab": {
          "base_uri": "https://localhost:8080/",
          "height": 122
        }
      },
      "cell_type": "code",
      "source": [
        "from google.colab import drive\n",
        "drive.mount('/content/drive')"
      ],
      "execution_count": 5,
      "outputs": [
        {
          "output_type": "stream",
          "text": [
            "Go to this URL in a browser: https://accounts.google.com/o/oauth2/auth?client_id=947318989803-6bn6qk8qdgf4n4g3pfee6491hc0brc4i.apps.googleusercontent.com&redirect_uri=urn%3Aietf%3Awg%3Aoauth%3A2.0%3Aoob&scope=email%20https%3A%2F%2Fwww.googleapis.com%2Fauth%2Fdocs.test%20https%3A%2F%2Fwww.googleapis.com%2Fauth%2Fdrive%20https%3A%2F%2Fwww.googleapis.com%2Fauth%2Fdrive.photos.readonly%20https%3A%2F%2Fwww.googleapis.com%2Fauth%2Fpeopleapi.readonly&response_type=code\n",
            "\n",
            "Enter your authorization code:\n",
            "··········\n",
            "Mounted at /content/drive\n"
          ],
          "name": "stdout"
        }
      ]
    },
    {
      "metadata": {
        "id": "KzwrT3xrJvFY",
        "colab_type": "code",
        "colab": {}
      },
      "cell_type": "code",
      "source": [
        "friends_data=pd.read_csv('friends-final.txt',sep=\"\\t\")"
      ],
      "execution_count": 0,
      "outputs": []
    },
    {
      "metadata": {
        "id": "ErSmuQPqKrLb",
        "colab_type": "code",
        "outputId": "aa094667-d135-4399-a53d-a612cbc4b993",
        "colab": {
          "base_uri": "https://localhost:8080/",
          "height": 289
        }
      },
      "cell_type": "code",
      "source": [
        "friends_data.head()"
      ],
      "execution_count": 77,
      "outputs": [
        {
          "output_type": "execute_result",
          "data": {
            "text/html": [
              "<div>\n",
              "<style scoped>\n",
              "    .dataframe tbody tr th:only-of-type {\n",
              "        vertical-align: middle;\n",
              "    }\n",
              "\n",
              "    .dataframe tbody tr th {\n",
              "        vertical-align: top;\n",
              "    }\n",
              "\n",
              "    .dataframe thead th {\n",
              "        text-align: right;\n",
              "    }\n",
              "</style>\n",
              "<table border=\"1\" class=\"dataframe\">\n",
              "  <thead>\n",
              "    <tr style=\"text-align: right;\">\n",
              "      <th></th>\n",
              "      <th>id</th>\n",
              "      <th>scene_id</th>\n",
              "      <th>person</th>\n",
              "      <th>gender</th>\n",
              "      <th>original_line</th>\n",
              "      <th>line</th>\n",
              "      <th>metadata</th>\n",
              "      <th>filename</th>\n",
              "    </tr>\n",
              "  </thead>\n",
              "  <tbody>\n",
              "    <tr>\n",
              "      <th>0</th>\n",
              "      <td>1</td>\n",
              "      <td>1</td>\n",
              "      <td>MONICA</td>\n",
              "      <td>F</td>\n",
              "      <td>Monica: There's nothing to tell! He's just som...</td>\n",
              "      <td>There's nothing to tell! He's just some guy I ...</td>\n",
              "      <td>There_EX 's_VBZ nothing_PN1 to_TO tell_VVI !_!...</td>\n",
              "      <td>0101.txt</td>\n",
              "    </tr>\n",
              "    <tr>\n",
              "      <th>1</th>\n",
              "      <td>101</td>\n",
              "      <td>1</td>\n",
              "      <td>JOEY</td>\n",
              "      <td>M</td>\n",
              "      <td>Joey: C'mon, you're going out with the guy! Th...</td>\n",
              "      <td>C'mon, you're going out with the guy! There's ...</td>\n",
              "      <td>C'm_VV0 on_RP you_PPY 're_VBR going_VVG out_RP...</td>\n",
              "      <td>0101.txt</td>\n",
              "    </tr>\n",
              "    <tr>\n",
              "      <th>2</th>\n",
              "      <td>201</td>\n",
              "      <td>1</td>\n",
              "      <td>CHANDLER</td>\n",
              "      <td>M</td>\n",
              "      <td>Chandler: All right Joey, be nice.  So does he...</td>\n",
              "      <td>Alright Joey, be nice. So does he have a hump?...</td>\n",
              "      <td>All_RR21 right_RR22 Joey_NP1 be_VBI nice_JJ ._...</td>\n",
              "      <td>0101.txt</td>\n",
              "    </tr>\n",
              "    <tr>\n",
              "      <th>3</th>\n",
              "      <td>301</td>\n",
              "      <td>1</td>\n",
              "      <td>PHOEBE</td>\n",
              "      <td>F</td>\n",
              "      <td>Phoebe: Wait, does he eat chalk?</td>\n",
              "      <td>Wait, does he eat chalk?</td>\n",
              "      <td>Wait_VV0 does_VDZ he_PPHS1 eat_VVI chalk_NN1 ?_?</td>\n",
              "      <td>0101.txt</td>\n",
              "    </tr>\n",
              "    <tr>\n",
              "      <th>4</th>\n",
              "      <td>401</td>\n",
              "      <td>1</td>\n",
              "      <td>PHOEBE</td>\n",
              "      <td>F</td>\n",
              "      <td>Phoebe: Just, 'cause, I don't want her to go t...</td>\n",
              "      <td>Just, 'cause, I don't want her to go through w...</td>\n",
              "      <td>Just_RR 'cause_CS I_PPIS1 do_VD0 n't_XX want_V...</td>\n",
              "      <td>0101.txt</td>\n",
              "    </tr>\n",
              "  </tbody>\n",
              "</table>\n",
              "</div>"
            ],
            "text/plain": [
              "    id scene_id    person gender  \\\n",
              "0    1        1    MONICA      F   \n",
              "1  101        1      JOEY      M   \n",
              "2  201        1  CHANDLER      M   \n",
              "3  301        1    PHOEBE      F   \n",
              "4  401        1    PHOEBE      F   \n",
              "\n",
              "                                       original_line  \\\n",
              "0  Monica: There's nothing to tell! He's just som...   \n",
              "1  Joey: C'mon, you're going out with the guy! Th...   \n",
              "2  Chandler: All right Joey, be nice.  So does he...   \n",
              "3                   Phoebe: Wait, does he eat chalk?   \n",
              "4  Phoebe: Just, 'cause, I don't want her to go t...   \n",
              "\n",
              "                                                line  \\\n",
              "0  There's nothing to tell! He's just some guy I ...   \n",
              "1  C'mon, you're going out with the guy! There's ...   \n",
              "2  Alright Joey, be nice. So does he have a hump?...   \n",
              "3                           Wait, does he eat chalk?   \n",
              "4  Just, 'cause, I don't want her to go through w...   \n",
              "\n",
              "                                            metadata  filename  \n",
              "0  There_EX 's_VBZ nothing_PN1 to_TO tell_VVI !_!...  0101.txt  \n",
              "1  C'm_VV0 on_RP you_PPY 're_VBR going_VVG out_RP...  0101.txt  \n",
              "2  All_RR21 right_RR22 Joey_NP1 be_VBI nice_JJ ._...  0101.txt  \n",
              "3   Wait_VV0 does_VDZ he_PPHS1 eat_VVI chalk_NN1 ?_?  0101.txt  \n",
              "4  Just_RR 'cause_CS I_PPIS1 do_VD0 n't_XX want_V...  0101.txt  "
            ]
          },
          "metadata": {
            "tags": []
          },
          "execution_count": 77
        }
      ]
    },
    {
      "metadata": {
        "id": "x8Qc3xlGNLHe",
        "colab_type": "code",
        "outputId": "c6e233ce-0a66-4b79-c351-8bb043ba9303",
        "colab": {
          "base_uri": "https://localhost:8080/",
          "height": 1071
        }
      },
      "cell_type": "code",
      "source": [
        "friends_data.person.value_counts()"
      ],
      "execution_count": 78,
      "outputs": [
        {
          "output_type": "execute_result",
          "data": {
            "text/plain": [
              "RACHEL                         9207\n",
              "ROSS                           9027\n",
              "CHANDLER                       8362\n",
              "MONICA                         8324\n",
              "JOEY                           8125\n",
              "PHOEBE                         7453\n",
              "MIKE                            358\n",
              "ALL                             343\n",
              "RICHARD                         281\n",
              "JANICE                          217\n",
              "MR. GELLER                      204\n",
              "CAROL                           193\n",
              "CHARLIE                         190\n",
              "EMILY                           167\n",
              "MRS. GELLER                     164\n",
              "FRANK                           146\n",
              "TAG                             146\n",
              "DIRECTOR                        135\n",
              "PAUL                            133\n",
              "GUNTHER                         130\n",
              "AMY                             122\n",
              "DAVID                           120\n",
              "MONA                            111\n",
              "WOMAN                           105\n",
              "SUSAN                           104\n",
              "PETE                            103\n",
              "JOSHUA                           98\n",
              "GARY                             96\n",
              "ELIZABETH                        94\n",
              "ERICA                            92\n",
              "                               ... \n",
              "JOEY, CHANDLER, AND ROSS          1\n",
              "PHOEBE, ROSS, RACHEL              1\n",
              "RACHEL AND CHANDLER               1\n",
              "STRANGE MAN                       1\n",
              "WOMAN'S VOICE                     1\n",
              "GUNTER                            1\n",
              "SMART KID                         1\n",
              "WAITER #2                         1\n",
              "MONICA, ROSS, AND JOEY            1\n",
              "SHERMAN WHITFIELD                 1\n",
              "THE HUSBAND                       1\n",
              "THE CIGARETTE SMOKING GUY         1\n",
              "MONICA, RACHEL, AND JOEY          1\n",
              "COWGIRL                           1\n",
              "SHOP ASSISTANT                    1\n",
              "EMPLOYEE                          1\n",
              "PHOEBE'S FRIENDS                  1\n",
              "SAME MAN'S VOICE                  1\n",
              "ALISON                            1\n",
              "THE MAN IN THE SPORTSCAR          1\n",
              "JACK AND JUDY                     1\n",
              "MR, GELLER                        1\n",
              "SECRETARY                         1\n",
              "ALEX                              1\n",
              "SOOTHING MALE VOICE               1\n",
              "ROSS & RACHEL                     1\n",
              "MRS. WALLACE                      1\n",
              "AMGER                             1\n",
              "PHOEBE LOOKS DOWN                 1\n",
              "CHANDLER/JOEY/RACHEL/MONICA       1\n",
              "Name: person, Length: 803, dtype: int64"
            ]
          },
          "metadata": {
            "tags": []
          },
          "execution_count": 78
        }
      ]
    },
    {
      "metadata": {
        "id": "DpQnD-ZCNPfB",
        "colab_type": "code",
        "colab": {}
      },
      "cell_type": "code",
      "source": [
        "x=[]\n",
        "y=[]"
      ],
      "execution_count": 0,
      "outputs": []
    },
    {
      "metadata": {
        "id": "eK3-G-ShNVdD",
        "colab_type": "code",
        "outputId": "d116f83b-f9a9-42ee-c904-fd7aa3a2a7ce",
        "colab": {
          "base_uri": "https://localhost:8080/",
          "height": 71
        }
      },
      "cell_type": "code",
      "source": [
        "s=\"\"\n",
        "for index,row in friends_data.iterrows():\n",
        "    if row['person']==\"ROSS\":\n",
        "        y.append(row['line'])\n",
        "        x.append(s)\n",
        "        s=\"\"\n",
        "    else:\n",
        "        s+=row['line']\n",
        "        \n",
        "print(x[:1])\n",
        "print(y[:1])"
      ],
      "execution_count": 80,
      "outputs": [
        {
          "output_type": "stream",
          "text": [
            "[\"There's nothing to tell! He's just some guy I work with!C'mon, you're going out with the guy! There's gotta be something wrong with him!Alright Joey, be nice. So does he have a hump? A hump and a hairpiece?Wait, does he eat chalk?Just, 'cause, I don't want her to go through what I went through with Carl- oh!Okay, everybody relax. This is not even a date. It's just two people going out to dinner and not having sex.Sounds like a date to me.Alright, so I'm back in high school, I'm standing in the middle of the cafeteria, and I realize I am totally naked.Oh, yeah. Had that dream.Then I look down, and I realize there's a phone... there.Instead of...?That's right.Never had that dream.No.All of a sudden, the phone starts to ring. Now I don't know what to do, everybody starts looking at me.And they weren't looking at you before?!Finally, I figure I'd better answer it, and it turns out it's my mother, which is very very weird, because- she never calls me!\"]\n",
            "['Hi.']\n"
          ],
          "name": "stdout"
        }
      ]
    },
    {
      "metadata": {
        "id": "Rnts53I-NX8Z",
        "colab_type": "code",
        "outputId": "77714dc5-6b69-45ca-831f-d9036c83d606",
        "colab": {
          "base_uri": "https://localhost:8080/",
          "height": 51
        }
      },
      "cell_type": "code",
      "source": [
        "print(len(x))\n",
        "print(len(y))"
      ],
      "execution_count": 81,
      "outputs": [
        {
          "output_type": "stream",
          "text": [
            "9027\n",
            "9027\n"
          ],
          "name": "stdout"
        }
      ]
    },
    {
      "metadata": {
        "id": "galQCX83NilJ",
        "colab_type": "code",
        "outputId": "fd57b814-0ef6-47b9-e5cf-48041ee84c72",
        "colab": {
          "base_uri": "https://localhost:8080/",
          "height": 68
        }
      },
      "cell_type": "code",
      "source": [
        "nltk.download('punkt')"
      ],
      "execution_count": 13,
      "outputs": [
        {
          "output_type": "stream",
          "text": [
            "[nltk_data] Downloading package punkt to /root/nltk_data...\n",
            "[nltk_data]   Unzipping tokenizers/punkt.zip.\n"
          ],
          "name": "stdout"
        },
        {
          "output_type": "execute_result",
          "data": {
            "text/plain": [
              "True"
            ]
          },
          "metadata": {
            "tags": []
          },
          "execution_count": 13
        }
      ]
    },
    {
      "metadata": {
        "id": "TSYeEcvSNcky",
        "colab_type": "code",
        "colab": {}
      },
      "cell_type": "code",
      "source": [
        "tok_x=[]\n",
        "tok_y=[]\n",
        "for i in range(len(x)):\n",
        "    tok_x.append(nltk.word_tokenize(x[i].lower()))\n",
        "    tok_y.append(nltk.word_tokenize(y[i].lower()))"
      ],
      "execution_count": 0,
      "outputs": []
    },
    {
      "metadata": {
        "id": "8_ubdCHsNfzq",
        "colab_type": "code",
        "colab": {}
      },
      "cell_type": "code",
      "source": [
        "tok_x[:5]"
      ],
      "execution_count": 0,
      "outputs": []
    },
    {
      "metadata": {
        "id": "8xwv1q9fNuXc",
        "colab_type": "code",
        "colab": {}
      },
      "cell_type": "code",
      "source": [
        "tok_y[:5]"
      ],
      "execution_count": 0,
      "outputs": []
    },
    {
      "metadata": {
        "id": "NE60AYTQNwjZ",
        "colab_type": "code",
        "colab": {}
      },
      "cell_type": "code",
      "source": [
        "model=Word2Vec(tok_x+tok_y,min_count=1)"
      ],
      "execution_count": 0,
      "outputs": []
    },
    {
      "metadata": {
        "id": "6ilcE6Ue8KEZ",
        "colab_type": "code",
        "colab": {
          "base_uri": "https://localhost:8080/",
          "height": 34
        },
        "outputId": "9eeb0db7-6a8b-4362-b5aa-0fd0aca98e7e"
      },
      "cell_type": "code",
      "source": [
        "vec_x[0][0].shape"
      ],
      "execution_count": 40,
      "outputs": [
        {
          "output_type": "execute_result",
          "data": {
            "text/plain": [
              "(100,)"
            ]
          },
          "metadata": {
            "tags": []
          },
          "execution_count": 40
        }
      ]
    },
    {
      "metadata": {
        "id": "VpPcXOoMN4An",
        "colab_type": "code",
        "outputId": "7eb07791-4a17-4040-8eb7-6a7f02c2012e",
        "colab": {
          "base_uri": "https://localhost:8080/",
          "height": 360
        }
      },
      "cell_type": "code",
      "source": [
        "# print(model[\"there\"])"
      ],
      "execution_count": 19,
      "outputs": [
        {
          "output_type": "stream",
          "text": [
            "[-0.28996173  0.76301485  1.0274425  -0.89310205 -0.6627651  -1.5474524\n",
            " -0.8688558   0.7047271   1.2214881   1.8773322  -0.61340606 -1.1858112\n",
            " -1.5713236  -0.53074664 -0.39940596  2.4297826  -0.12645964 -0.5559324\n",
            " -0.58294743  1.3631903   1.3110546  -1.2622077  -0.9513241   1.6322002\n",
            "  1.9512424  -0.24055238 -1.0071757  -1.1734166   0.57635176  1.188294\n",
            "  0.4131085   1.0088317   0.67132574 -1.8379203   1.1243742   0.8467075\n",
            " -0.624817    0.7254321   1.2750738   0.13219383  0.45353276 -0.17843539\n",
            "  0.9531053   1.5299962  -1.4204518  -0.19275737  0.69025254  0.31363362\n",
            "  0.27934083  2.2010388   0.98327863 -0.36252382 -1.2637053   0.96430343\n",
            "  1.890746    0.6833521  -0.89899194 -1.1221919  -0.94203675  2.2088952\n",
            "  1.2915452  -1.1050214  -1.2410464   0.82120496  0.36476135  0.14605819\n",
            "  0.64985067  1.1558249  -1.1884289  -0.89105856 -0.6664938   0.0943432\n",
            "  0.9020827  -0.17427835  0.7341113   0.7028859  -0.40292233 -1.5204192\n",
            "  1.0969175  -0.1070167  -0.06686661 -0.9284211  -1.9295762  -0.8107989\n",
            " -0.11525971 -1.9479064   1.6010772   0.08004617 -0.338017    0.3948637\n",
            "  0.7950818   0.30610034 -0.16583176  0.2327346   0.11618579  0.5305258\n",
            " -0.8695279   0.717528   -0.57562363 -0.73942995]\n"
          ],
          "name": "stdout"
        },
        {
          "output_type": "stream",
          "text": [
            "/usr/local/lib/python3.6/dist-packages/ipykernel_launcher.py:1: DeprecationWarning: Call to deprecated `__getitem__` (Method will be removed in 4.0.0, use self.wv.__getitem__() instead).\n",
            "  \"\"\"Entry point for launching an IPython kernel.\n"
          ],
          "name": "stderr"
        }
      ]
    },
    {
      "metadata": {
        "id": "Y2urnHObN6u_",
        "colab_type": "code",
        "colab": {}
      },
      "cell_type": "code",
      "source": [
        "vec_x=[]\n",
        "vec_y=[]"
      ],
      "execution_count": 0,
      "outputs": []
    },
    {
      "metadata": {
        "id": "TQuWFbBFN_E0",
        "colab_type": "code",
        "outputId": "5633a5e0-589e-46f1-abb1-58e7b8c9af6c",
        "colab": {
          "base_uri": "https://localhost:8080/",
          "height": 105
        }
      },
      "cell_type": "code",
      "source": [
        "for sent in tok_x:\n",
        "    sentvec=[model[w] for w in sent if w in model.wv.vocab]\n",
        "    vec_x.append(sentvec)\n",
        "for sent in tok_y:\n",
        "    sentvec=[model[w] for w in sent if w in model.wv.vocab]\n",
        "    vec_y.append(sentvec)"
      ],
      "execution_count": 85,
      "outputs": [
        {
          "output_type": "stream",
          "text": [
            "/usr/local/lib/python3.6/dist-packages/ipykernel_launcher.py:2: DeprecationWarning: Call to deprecated `__getitem__` (Method will be removed in 4.0.0, use self.wv.__getitem__() instead).\n",
            "  \n",
            "/usr/local/lib/python3.6/dist-packages/ipykernel_launcher.py:5: DeprecationWarning: Call to deprecated `__getitem__` (Method will be removed in 4.0.0, use self.wv.__getitem__() instead).\n",
            "  \"\"\"\n"
          ],
          "name": "stderr"
        }
      ]
    },
    {
      "metadata": {
        "id": "gpMBoRVUVVog",
        "colab_type": "code",
        "colab": {}
      },
      "cell_type": "code",
      "source": [
        "sentend=np.ones(100,dtype=np.float32)"
      ],
      "execution_count": 0,
      "outputs": []
    },
    {
      "metadata": {
        "id": "RgcN93b-UhSD",
        "colab_type": "code",
        "colab": {}
      },
      "cell_type": "code",
      "source": [
        "for tok_sent in vec_x:\n",
        "  tok_sent[:-14]=[]\n",
        "  tok_sent.append(sentend)"
      ],
      "execution_count": 0,
      "outputs": []
    },
    {
      "metadata": {
        "id": "c9a5SBvqWSwr",
        "colab_type": "code",
        "colab": {}
      },
      "cell_type": "code",
      "source": [
        "for tok_sent in vec_x:\n",
        "  if(len(tok_sent)<15):\n",
        "    for i in range(15-len(tok_sent)):\n",
        "      tok_sent.append(sentend)"
      ],
      "execution_count": 0,
      "outputs": []
    },
    {
      "metadata": {
        "id": "ps9OC9WpV7tt",
        "colab_type": "code",
        "colab": {}
      },
      "cell_type": "code",
      "source": [
        "for tok_sent in vec_y:\n",
        "  tok_sent[:-14]=[]\n",
        "  tok_sent.append(sentend)"
      ],
      "execution_count": 0,
      "outputs": []
    },
    {
      "metadata": {
        "id": "Wc9JSsGEWxzp",
        "colab_type": "code",
        "colab": {}
      },
      "cell_type": "code",
      "source": [
        "for tok_sent in vec_y:\n",
        "  if(len(tok_sent)<15):\n",
        "    for i in range(15-len(tok_sent)):\n",
        "      tok_sent.append(sentend)"
      ],
      "execution_count": 0,
      "outputs": []
    },
    {
      "metadata": {
        "id": "wMIEvTkK5fdn",
        "colab_type": "code",
        "colab": {
          "base_uri": "https://localhost:8080/",
          "height": 34
        },
        "outputId": "619856bc-61d7-4fdd-d4ed-9ceaf3d4f2d0"
      },
      "cell_type": "code",
      "source": [
        "# size = 0\n",
        "# for i in vec_x:\n",
        "#   size = max(size, len(i))\n",
        "# size\n",
        "\n",
        "\n",
        "# for i in vec_x:\n",
        "#   size = max(size, len(i))\n"
      ],
      "execution_count": 25,
      "outputs": [
        {
          "output_type": "execute_result",
          "data": {
            "text/plain": [
              "2545"
            ]
          },
          "metadata": {
            "tags": []
          },
          "execution_count": 25
        }
      ]
    },
    {
      "metadata": {
        "id": "_VAAKJwLOFrd",
        "colab_type": "code",
        "colab": {}
      },
      "cell_type": "code",
      "source": [
        "vec_X=np.array(vec_x,dtype=np.float64)\n",
        "vec_Y=np.array(vec_y,dtype=np.float64)"
      ],
      "execution_count": 0,
      "outputs": []
    },
    {
      "metadata": {
        "id": "il2zcWnidON2",
        "colab_type": "code",
        "outputId": "0cdabe20-275a-4aea-9c6c-98370707a63c",
        "colab": {
          "base_uri": "https://localhost:8080/",
          "height": 207
        }
      },
      "cell_type": "code",
      "source": [
        "# !pip install -U scikit-learn\n"
      ],
      "execution_count": 0,
      "outputs": [
        {
          "output_type": "stream",
          "text": [
            "Collecting scikit-learn\n",
            "\u001b[?25l  Downloading https://files.pythonhosted.org/packages/0c/b2/05be9b6da9ae4a4c54f537be22e95833f722742a02b1e355fdc09363877c/scikit_learn-0.20.0-cp36-cp36m-manylinux1_x86_64.whl (5.3MB)\n",
            "\u001b[K    100% |████████████████████████████████| 5.3MB 2.6MB/s \n",
            "\u001b[?25hRequirement already satisfied, skipping upgrade: numpy>=1.8.2 in /usr/local/lib/python3.6/dist-packages (from scikit-learn) (1.14.6)\n",
            "Requirement already satisfied, skipping upgrade: scipy>=0.13.3 in /usr/local/lib/python3.6/dist-packages (from scikit-learn) (0.19.1)\n",
            "Installing collected packages: scikit-learn\n",
            "  Found existing installation: scikit-learn 0.19.2\n",
            "    Uninstalling scikit-learn-0.19.2:\n",
            "      Successfully uninstalled scikit-learn-0.19.2\n",
            "Successfully installed scikit-learn-0.20.0\n"
          ],
          "name": "stdout"
        }
      ]
    },
    {
      "metadata": {
        "id": "4h71UIDKdEgI",
        "colab_type": "code",
        "colab": {}
      },
      "cell_type": "code",
      "source": [
        "# from sklearn.model_selection import train_test_split"
      ],
      "execution_count": 0,
      "outputs": []
    },
    {
      "metadata": {
        "id": "hpnQUexvavHu",
        "colab_type": "code",
        "colab": {}
      },
      "cell_type": "code",
      "source": [
        "x_train,x_test,y_train,y_test = train_test_split(vec_X,vec_Y,test_size=0.2,random_state=1)"
      ],
      "execution_count": 0,
      "outputs": []
    },
    {
      "metadata": {
        "id": "79chDS3Yd63m",
        "colab_type": "code",
        "outputId": "070101a7-c9b4-413c-f472-86134fb5a254",
        "colab": {
          "base_uri": "https://localhost:8080/",
          "height": 119
        }
      },
      "cell_type": "code",
      "source": [
        "# !pip install keras"
      ],
      "execution_count": 0,
      "outputs": [
        {
          "output_type": "stream",
          "text": [
            "Requirement already satisfied: keras in /usr/local/lib/python3.6/dist-packages (2.1.6)\n",
            "Requirement already satisfied: numpy>=1.9.1 in /usr/local/lib/python3.6/dist-packages (from keras) (1.14.6)\n",
            "Requirement already satisfied: pyyaml in /usr/local/lib/python3.6/dist-packages (from keras) (3.13)\n",
            "Requirement already satisfied: six>=1.9.0 in /usr/local/lib/python3.6/dist-packages (from keras) (1.11.0)\n",
            "Requirement already satisfied: scipy>=0.14 in /usr/local/lib/python3.6/dist-packages (from keras) (0.19.1)\n",
            "Requirement already satisfied: h5py in /usr/local/lib/python3.6/dist-packages (from keras) (2.8.0)\n"
          ],
          "name": "stdout"
        }
      ]
    },
    {
      "metadata": {
        "id": "EWB6b6Iod2Mq",
        "colab_type": "code",
        "colab": {
          "base_uri": "https://localhost:8080/",
          "height": 34
        },
        "outputId": "00323c8f-4902-470c-ed67-e769ace019e2"
      },
      "cell_type": "code",
      "source": [
        "from keras.models import Sequential"
      ],
      "execution_count": 32,
      "outputs": [
        {
          "output_type": "stream",
          "text": [
            "Using TensorFlow backend.\n"
          ],
          "name": "stderr"
        }
      ]
    },
    {
      "metadata": {
        "id": "tjDKkapcduij",
        "colab_type": "code",
        "colab": {}
      },
      "cell_type": "code",
      "source": [
        "model1=Sequential()"
      ],
      "execution_count": 0,
      "outputs": []
    },
    {
      "metadata": {
        "id": "wjcPLHA1eHii",
        "colab_type": "code",
        "colab": {}
      },
      "cell_type": "code",
      "source": [
        "# x_train=tf.keras.utils.normalize(x_train,axis=1)\n",
        "# x_test=tf.keras.utils.normalize(x_test,axis=1)"
      ],
      "execution_count": 0,
      "outputs": []
    },
    {
      "metadata": {
        "id": "qWWg2hcFhs5R",
        "colab_type": "code",
        "colab": {}
      },
      "cell_type": "code",
      "source": [
        "from keras.layers.recurrent import LSTM"
      ],
      "execution_count": 0,
      "outputs": []
    },
    {
      "metadata": {
        "id": "SGsCO3A2jLpK",
        "colab_type": "code",
        "outputId": "94d1f784-544f-4f6d-aa2d-82bf40aa6127",
        "colab": {
          "base_uri": "https://localhost:8080/",
          "height": 34
        }
      },
      "cell_type": "code",
      "source": [
        "# x_train.shape"
      ],
      "execution_count": 0,
      "outputs": [
        {
          "output_type": "execute_result",
          "data": {
            "text/plain": [
              "(7221,)"
            ]
          },
          "metadata": {
            "tags": []
          },
          "execution_count": 74
        }
      ]
    },
    {
      "metadata": {
        "id": "rDnt83_-emn-",
        "colab_type": "code",
        "outputId": "557295e4-793f-42cc-d850-5c4b5a51f543",
        "colab": {
          "base_uri": "https://localhost:8080/",
          "height": 71
        }
      },
      "cell_type": "code",
      "source": [
        "model1.add(LSTM(output_dim=100,input_shape=(None,100),return_sequences=True,init='glorot_normal',inner_init='glorot_normal',activation='tanh'))"
      ],
      "execution_count": 94,
      "outputs": [
        {
          "output_type": "stream",
          "text": [
            "/usr/local/lib/python3.6/dist-packages/ipykernel_launcher.py:1: UserWarning: Update your `LSTM` call to the Keras 2 API: `LSTM(input_shape=(None, 100..., return_sequences=True, activation=\"tanh\", units=100, kernel_initializer=\"glorot_normal\", recurrent_initializer=\"glorot_normal\")`\n",
            "  \"\"\"Entry point for launching an IPython kernel.\n"
          ],
          "name": "stderr"
        }
      ]
    },
    {
      "metadata": {
        "id": "yLFf4hdlhjQi",
        "colab_type": "code",
        "colab": {
          "base_uri": "https://localhost:8080/",
          "height": 71
        },
        "outputId": "68901250-35c3-45d1-fbfe-754305ba183f"
      },
      "cell_type": "code",
      "source": [
        "model1.add(LSTM(output_dim=100,input_shape=(None,100),return_sequences=True,init='glorot_normal',inner_init='glorot_normal',activation='tanh'))"
      ],
      "execution_count": 95,
      "outputs": [
        {
          "output_type": "stream",
          "text": [
            "/usr/local/lib/python3.6/dist-packages/ipykernel_launcher.py:1: UserWarning: Update your `LSTM` call to the Keras 2 API: `LSTM(input_shape=(None, 100..., return_sequences=True, activation=\"tanh\", units=100, kernel_initializer=\"glorot_normal\", recurrent_initializer=\"glorot_normal\")`\n",
            "  \"\"\"Entry point for launching an IPython kernel.\n"
          ],
          "name": "stderr"
        }
      ]
    },
    {
      "metadata": {
        "id": "Kb6lZb1Lhj56",
        "colab_type": "code",
        "colab": {
          "base_uri": "https://localhost:8080/",
          "height": 71
        },
        "outputId": "b73ffaef-3946-4404-935c-2eec13078631"
      },
      "cell_type": "code",
      "source": [
        "model1.add(LSTM(output_dim=100,input_shape=(None,100),return_sequences=True,init='glorot_normal',inner_init='glorot_normal',activation='tanh'))"
      ],
      "execution_count": 96,
      "outputs": [
        {
          "output_type": "stream",
          "text": [
            "/usr/local/lib/python3.6/dist-packages/ipykernel_launcher.py:1: UserWarning: Update your `LSTM` call to the Keras 2 API: `LSTM(input_shape=(None, 100..., return_sequences=True, activation=\"tanh\", units=100, kernel_initializer=\"glorot_normal\", recurrent_initializer=\"glorot_normal\")`\n",
            "  \"\"\"Entry point for launching an IPython kernel.\n"
          ],
          "name": "stderr"
        }
      ]
    },
    {
      "metadata": {
        "id": "9ckDpV2ahkdi",
        "colab_type": "code",
        "colab": {
          "base_uri": "https://localhost:8080/",
          "height": 71
        },
        "outputId": "a5d97e03-43a1-47a5-b802-6b66ce90e5e0"
      },
      "cell_type": "code",
      "source": [
        "model1.add(LSTM(output_dim=100,input_shape=(None,100),return_sequences=True,init='glorot_normal',inner_init='glorot_normal',activation='tanh'))"
      ],
      "execution_count": 97,
      "outputs": [
        {
          "output_type": "stream",
          "text": [
            "/usr/local/lib/python3.6/dist-packages/ipykernel_launcher.py:1: UserWarning: Update your `LSTM` call to the Keras 2 API: `LSTM(input_shape=(None, 100..., return_sequences=True, activation=\"tanh\", units=100, kernel_initializer=\"glorot_normal\", recurrent_initializer=\"glorot_normal\")`\n",
            "  \"\"\"Entry point for launching an IPython kernel.\n"
          ],
          "name": "stderr"
        }
      ]
    },
    {
      "metadata": {
        "id": "zsiZGtT1A-zD",
        "colab_type": "code",
        "colab": {}
      },
      "cell_type": "code",
      "source": [
        "model1.compile(loss='cosine_proximity',optimizer='adam',metrics=['accuracy'])"
      ],
      "execution_count": 0,
      "outputs": []
    },
    {
      "metadata": {
        "id": "3Lf4uXcsBoPE",
        "colab_type": "code",
        "colab": {}
      },
      "cell_type": "code",
      "source": [
        "model1.fit(x_train,y_train,nb_epoch=25,validation_data=(x_test,y_test))"
      ],
      "execution_count": 0,
      "outputs": []
    },
    {
      "metadata": {
        "id": "c3qk-Djkuu8y",
        "colab_type": "code",
        "colab": {}
      },
      "cell_type": "code",
      "source": [
        "# from gensim.scripts.glove2word2vec import glove2word2vec"
      ],
      "execution_count": 0,
      "outputs": []
    },
    {
      "metadata": {
        "id": "UtHd-RY8uygX",
        "colab_type": "code",
        "outputId": "45f4785a-ea6f-4c71-a2ed-f471891f84b1",
        "colab": {
          "base_uri": "https://localhost:8080/",
          "height": 34
        }
      },
      "cell_type": "code",
      "source": [
        "# glove_input_file = 'glove.6B.100d.txt'\n",
        "# word2vec_output_file = 'glove.6B.100d.txt.word2vec'\n",
        "# glove2word2vec(glove_input_file, word2vec_output_file)"
      ],
      "execution_count": 0,
      "outputs": [
        {
          "output_type": "execute_result",
          "data": {
            "text/plain": [
              "(400000, 100)"
            ]
          },
          "metadata": {
            "tags": []
          },
          "execution_count": 92
        }
      ]
    },
    {
      "metadata": {
        "id": "IS51wkmkwd3E",
        "colab_type": "code",
        "colab": {}
      },
      "cell_type": "code",
      "source": [
        "# from gensim.models import KeyedVectors\n",
        "# # load the Stanford GloVe model\n",
        "# filename = 'glove.6B.100d.txt.word2vec'\n",
        "# model = KeyedVectors.load_word2vec_format(filename, binary=False)"
      ],
      "execution_count": 0,
      "outputs": []
    },
    {
      "metadata": {
        "id": "9pzRSiN3va-L",
        "colab_type": "code",
        "colab": {}
      },
      "cell_type": "code",
      "source": [
        "# for sent in tok_x:\n",
        "#     sentvec=[model[w] for w in sent if w in model.wv.vocab]\n",
        "#     vec_x.append(sentvec)\n",
        "# for sent in tok_y:\n",
        "#     sentvec=[model[w] for w in sent if w in model.wv.vocab]\n",
        "#     vec_y.append(sentvec)"
      ],
      "execution_count": 0,
      "outputs": []
    },
    {
      "metadata": {
        "id": "xvVkrUVhxBLt",
        "colab_type": "code",
        "colab": {}
      },
      "cell_type": "code",
      "source": [
        "# print(model['intestine'])"
      ],
      "execution_count": 0,
      "outputs": []
    },
    {
      "metadata": {
        "id": "mE9md6cpxKnu",
        "colab_type": "code",
        "colab": {}
      },
      "cell_type": "code",
      "source": [
        "# vec_X=tf.keras.preprocessing.sequence.pad_sequences(vec_x,dtype='float64')\n",
        "# vec_X=np.array(vec_X,dtype=np.float64)\n",
        "# X_train = sequence.pad_sequences(X_train, dtype='float32')"
      ],
      "execution_count": 0,
      "outputs": []
    },
    {
      "metadata": {
        "id": "b62X0UYT7MQV",
        "colab_type": "code",
        "colab": {}
      },
      "cell_type": "code",
      "source": [
        "# vec_Y=tf.keras.preprocessing.sequence.pad_sequences(vec_y,dtype='float64')\n",
        "# vec_Y=np.array(vec_Y,dtype=np.float64)\n",
        "# X_train = sequence.pad_sequences(X_train, dtype='float32')"
      ],
      "execution_count": 0,
      "outputs": []
    },
    {
      "metadata": {
        "id": "LsdGNsU-xZsQ",
        "colab_type": "code",
        "colab": {}
      },
      "cell_type": "code",
      "source": [
        "# x_train,x_test,y_train,y_test = train_test_split(vec_x,vec_y,test_size=0.2,random_state=1)"
      ],
      "execution_count": 0,
      "outputs": []
    },
    {
      "metadata": {
        "id": "WP74VlDYx7eI",
        "colab_type": "code",
        "colab": {}
      },
      "cell_type": "code",
      "source": [
        "# model1.add(LSTM(output_dim=100,input_shape=x_train.shape[1:],return_sequences=True,init='glorot_normal',inner_init='glorot_normal',activation='sigmoid'))"
      ],
      "execution_count": 0,
      "outputs": []
    },
    {
      "metadata": {
        "id": "NviuFxkcyBe3",
        "colab_type": "code",
        "colab": {}
      },
      "cell_type": "code",
      "source": [
        "# vec_x=np.array(vec_x,dtype=np.float64)\n",
        "predictions=model1.predict(x_test)"
      ],
      "execution_count": 0,
      "outputs": []
    },
    {
      "metadata": {
        "id": "wzFLTjB6H57C",
        "colab_type": "code",
        "colab": {
          "base_uri": "https://localhost:8080/",
          "height": 360
        },
        "outputId": "4cae72ee-af4e-4aeb-e9a4-fdce4372e109"
      },
      "cell_type": "code",
      "source": [
        "[model.most_similar([predictions[10][i]])[0] for i in range(15)]"
      ],
      "execution_count": 101,
      "outputs": [
        {
          "output_type": "stream",
          "text": [
            "/usr/local/lib/python3.6/dist-packages/ipykernel_launcher.py:1: DeprecationWarning: Call to deprecated `most_similar` (Method will be removed in 4.0.0, use self.wv.most_similar() instead).\n",
            "  \"\"\"Entry point for launching an IPython kernel.\n",
            "/usr/local/lib/python3.6/dist-packages/gensim/matutils.py:737: FutureWarning: Conversion of the second argument of issubdtype from `int` to `np.signedinteger` is deprecated. In future, it will be treated as `np.int64 == np.dtype(int).type`.\n",
            "  if np.issubdtype(vec.dtype, np.int):\n"
          ],
          "name": "stderr"
        },
        {
          "output_type": "execute_result",
          "data": {
            "text/plain": [
              "[('tonight', 0.8758000135421753),\n",
              " ('tonight', 0.8587003946304321),\n",
              " (\"'cause\", 0.8405600786209106),\n",
              " (\"'cause\", 0.8108985424041748),\n",
              " (\"'cause\", 0.7649641036987305),\n",
              " ('truth', 0.7343008518218994),\n",
              " ('truth', 0.7045392990112305),\n",
              " ('truth', 0.675143301486969),\n",
              " ('truth', 0.6443169116973877),\n",
              " ('truth', 0.6132040023803711),\n",
              " ('boyfriend', 0.5932224988937378),\n",
              " ('boyfriend', 0.5680023431777954),\n",
              " ('boyfriend', 0.5187765955924988),\n",
              " ('name', 0.4430112838745117),\n",
              " ('famous.oh', 0.38386690616607666)]"
            ]
          },
          "metadata": {
            "tags": []
          },
          "execution_count": 101
        }
      ]
    },
    {
      "metadata": {
        "id": "0bP_CFH2Icoy",
        "colab_type": "code",
        "colab": {
          "base_uri": "https://localhost:8080/",
          "height": 156
        },
        "outputId": "8c571006-b3aa-49c6-e916-66f1e10b6631"
      },
      "cell_type": "code",
      "source": [
        "    x=\"Hi\";\n",
        "    sentend=np.ones((100,),dtype=np.float32) \n",
        "\n",
        "    sent=nltk.word_tokenize(x.lower())\n",
        "    sentvec = [model[w] for w in sent if w in model.wv.vocab]\n",
        "\n",
        "    sentvec[14:]=[]\n",
        "    sentvec.append(sentend)\n",
        "    if len(sentvec)<15:\n",
        "        for i in range(15-len(sentvec)):\n",
        "            sentvec.append(sentend) \n",
        "    sentvec=np.array([sentvec])\n",
        "    \n",
        "    predictions = model1.predict(sentvec)\n",
        "    outputlist=[model.most_similar([predictions[0][i]])[0][0] for i in range(15)]\n",
        "    output=' '.join(outputlist)\n",
        "    print(output)"
      ],
      "execution_count": 104,
      "outputs": [
        {
          "output_type": "stream",
          "text": [
            "c'mon tonight , , story truth truth truth boyfriend boyfriend boyfriend boyfriend name name life.what\n"
          ],
          "name": "stdout"
        },
        {
          "output_type": "stream",
          "text": [
            "/usr/local/lib/python3.6/dist-packages/ipykernel_launcher.py:5: DeprecationWarning: Call to deprecated `__getitem__` (Method will be removed in 4.0.0, use self.wv.__getitem__() instead).\n",
            "  \"\"\"\n",
            "/usr/local/lib/python3.6/dist-packages/ipykernel_launcher.py:15: DeprecationWarning: Call to deprecated `most_similar` (Method will be removed in 4.0.0, use self.wv.most_similar() instead).\n",
            "  from ipykernel import kernelapp as app\n",
            "/usr/local/lib/python3.6/dist-packages/gensim/matutils.py:737: FutureWarning: Conversion of the second argument of issubdtype from `int` to `np.signedinteger` is deprecated. In future, it will be treated as `np.int64 == np.dtype(int).type`.\n",
            "  if np.issubdtype(vec.dtype, np.int):\n"
          ],
          "name": "stderr"
        }
      ]
    },
    {
      "metadata": {
        "id": "01NAn2gWJJBq",
        "colab_type": "code",
        "colab": {}
      },
      "cell_type": "code",
      "source": [
        ""
      ],
      "execution_count": 0,
      "outputs": []
    }
  ]
}